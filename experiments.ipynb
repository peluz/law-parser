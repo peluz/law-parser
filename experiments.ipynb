{
 "cells": [
  {
   "cell_type": "code",
   "execution_count": 4,
   "metadata": {},
   "outputs": [],
   "source": [
    "import json\n",
    "\n",
    "with open(\"data/dataset.json\") as dataset:\n",
    "    data = json.load(dataset)"
   ]
  },
  {
   "cell_type": "code",
   "execution_count": 5,
   "metadata": {},
   "outputs": [
    {
     "data": {
      "text/plain": [
       "[{'example': 'alínea b do inciso I do art . 276 do Código Eleitoral',\n",
       "  'target': {'lei': 'código eleitoral',\n",
       "   'artigos': [{'id': '276', 'incisos': [{'id': 'i', 'alineas': ['b']}]}]}}]"
      ]
     },
     "execution_count": 5,
     "metadata": {},
     "output_type": "execute_result"
    }
   ],
   "source": [
    "data"
   ]
  },
  {
   "cell_type": "code",
   "execution_count": 15,
   "metadata": {},
   "outputs": [],
   "source": [
    "import re\n",
    "\n",
    "example = data[0][\"example\"].translate(string.punctuation)\n",
    "example = re.sub(r'[^\\w\\s]','', example)\n",
    "example = example.lower().split(\" \")"
   ]
  },
  {
   "cell_type": "code",
   "execution_count": 18,
   "metadata": {},
   "outputs": [
    {
     "data": {
      "text/plain": [
       "['alínea',\n",
       " 'b',\n",
       " 'do',\n",
       " 'inciso',\n",
       " 'i',\n",
       " 'do',\n",
       " 'art',\n",
       " '',\n",
       " '276',\n",
       " 'do',\n",
       " 'código',\n",
       " 'eleitoral']"
      ]
     },
     "execution_count": 18,
     "metadata": {},
     "output_type": "execute_result"
    }
   ],
   "source": [
    "example"
   ]
  },
  {
   "cell_type": "code",
   "execution_count": null,
   "metadata": {},
   "outputs": [],
   "source": []
  }
 ],
 "metadata": {
  "kernelspec": {
   "display_name": "Python 3",
   "language": "python",
   "name": "python3"
  },
  "language_info": {
   "codemirror_mode": {
    "name": "ipython",
    "version": 3
   },
   "file_extension": ".py",
   "mimetype": "text/x-python",
   "name": "python",
   "nbconvert_exporter": "python",
   "pygments_lexer": "ipython3",
   "version": "3.6.4"
  }
 },
 "nbformat": 4,
 "nbformat_minor": 2
}
